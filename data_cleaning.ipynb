{
  "nbformat": 4,
  "nbformat_minor": 0,
  "metadata": {
    "colab": {
      "name": "data_cleaning.ipynb",
      "provenance": [],
      "authorship_tag": "ABX9TyO6y9UhxhbnPktx+2ppduAb",
      "include_colab_link": true
    },
    "kernelspec": {
      "display_name": "Python 3",
      "name": "python3"
    }
  },
  "cells": [
    {
      "cell_type": "markdown",
      "metadata": {
        "id": "view-in-github",
        "colab_type": "text"
      },
      "source": [
        "<a href=\"https://colab.research.google.com/github/iyoushe1703/glassdoor-data-science-jobs-predictor/blob/main/data_cleaning.ipynb\" target=\"_parent\"><img src=\"https://colab.research.google.com/assets/colab-badge.svg\" alt=\"Open In Colab\"/></a>"
      ]
    },
    {
      "cell_type": "code",
      "metadata": {
        "id": "LaGj7rSZzIqQ"
      },
      "source": [
        "import pandas as pd\r\n",
        "pd.set_option('display.max_columns', 3000)\r\n",
        "pd.set_option('max_rows', 1000)"
      ],
      "execution_count": null,
      "outputs": []
    },
    {
      "cell_type": "code",
      "metadata": {
        "id": "nqXZ50CEHNWy"
      },
      "source": [
        "df = pd.read_csv(\"glassdoor_jobs.csv\")"
      ],
      "execution_count": null,
      "outputs": []
    },
    {
      "cell_type": "markdown",
      "metadata": {
        "id": "X0ds7emwIH3X"
      },
      "source": [
        "# Cleaning Salary Estimates Column"
      ]
    },
    {
      "cell_type": "markdown",
      "metadata": {
        "id": "e3Jsa96DIPRV"
      },
      "source": [
        "#### Removing missing values"
      ]
    },
    {
      "cell_type": "code",
      "metadata": {
        "id": "qNi0nu2CI9Vh"
      },
      "source": [
        "df = df[df['Salary Estimate'] != '-1']"
      ],
      "execution_count": null,
      "outputs": []
    },
    {
      "cell_type": "code",
      "metadata": {
        "id": "wXg4_vepgDPa"
      },
      "source": [
        "df.drop(['Unnamed: 0'], axis = 1, inplace = True)"
      ],
      "execution_count": null,
      "outputs": []
    },
    {
      "cell_type": "markdown",
      "metadata": {
        "id": "mYU2CFN4JPDq"
      },
      "source": [
        "#### Removing \"Glassdoor Estimate\""
      ]
    },
    {
      "cell_type": "code",
      "metadata": {
        "id": "j7RgYBMPIoe5"
      },
      "source": [
        "df['Salary Estimate'] = df['Salary Estimate'].apply(lambda x: x.split('(')[0])"
      ],
      "execution_count": null,
      "outputs": []
    },
    {
      "cell_type": "markdown",
      "metadata": {
        "id": "5Trzj6RHNFI3"
      },
      "source": [
        "#### Removing $ and K"
      ]
    },
    {
      "cell_type": "code",
      "metadata": {
        "id": "y-3VuIa1PAKc"
      },
      "source": [
        "df['Salary Estimate'] = df['Salary Estimate'].apply(lambda x: x.replace('$', '').replace('K', ''))"
      ],
      "execution_count": null,
      "outputs": []
    },
    {
      "cell_type": "markdown",
      "metadata": {
        "id": "p9n9OqEQQa-V"
      },
      "source": [
        "#### Creating a column to indicate 'per hour' and 'Employer Provided Salary' entries in the ```Salary Estimate``` column"
      ]
    },
    {
      "cell_type": "code",
      "metadata": {
        "id": "JoVVapGCNCOJ"
      },
      "source": [
        "df['per_hour'] = df['Salary Estimate'].apply(lambda x: 1 if 'Per Hour'.lower() in x.lower() else 0)"
      ],
      "execution_count": null,
      "outputs": []
    },
    {
      "cell_type": "code",
      "metadata": {
        "id": "tOCulbMpoxCq"
      },
      "source": [
        "df['employer_provided'] = df['Salary Estimate'].apply(lambda x: 1 if 'employer provided salary'.lower() in x.lower() else 0)"
      ],
      "execution_count": null,
      "outputs": []
    },
    {
      "cell_type": "markdown",
      "metadata": {
        "id": "DNIS5pAnp01D"
      },
      "source": [
        "### Removing Employer Provided Salary from Salary Estimate"
      ]
    },
    {
      "cell_type": "code",
      "metadata": {
        "id": "MR3ZR3bermP6"
      },
      "source": [
        "df['Salary Estimate'] = df['Salary Estimate'].apply(lambda x: x.lower().replace(\"per hour\", \"\"))"
      ],
      "execution_count": null,
      "outputs": []
    },
    {
      "cell_type": "code",
      "metadata": {
        "id": "mATUheglsFLw"
      },
      "source": [
        "df['Salary Estimate'] = df['Salary Estimate'].apply(lambda x: x.lower().replace(\"employer provided salary:\", \"\"))"
      ],
      "execution_count": null,
      "outputs": []
    },
    {
      "cell_type": "markdown",
      "metadata": {
        "id": "ZASPoUnijsp6"
      },
      "source": [
        "#### Creating ```min_salary```, ```max_salary``` and ```avg_salary``` columns"
      ]
    },
    {
      "cell_type": "code",
      "metadata": {
        "id": "4tNddelnhb-4"
      },
      "source": [
        "df['min_salary'] = df['Salary Estimate'].apply(lambda x: x.split('-')[0])"
      ],
      "execution_count": null,
      "outputs": []
    },
    {
      "cell_type": "code",
      "metadata": {
        "id": "NOuSR_gewxOI"
      },
      "source": [
        "df['min_salary'] = df['min_salary'].astype(int)"
      ],
      "execution_count": null,
      "outputs": []
    },
    {
      "cell_type": "code",
      "metadata": {
        "id": "NgmVUxwriyqs"
      },
      "source": [
        "df['max_salary'] = df['Salary Estimate'].apply(lambda x: x.split('-')[-1])"
      ],
      "execution_count": null,
      "outputs": []
    },
    {
      "cell_type": "code",
      "metadata": {
        "id": "yN-AHH1dw9oN"
      },
      "source": [
        "df['max_salary'] = df['max_salary'].astype(int)"
      ],
      "execution_count": null,
      "outputs": []
    },
    {
      "cell_type": "code",
      "metadata": {
        "id": "U049vEhVOJnb"
      },
      "source": [
        "df[\"avg_salary\"] = (df['min_salary'] + df['max_salary'])/2"
      ],
      "execution_count": null,
      "outputs": []
    },
    {
      "cell_type": "markdown",
      "metadata": {
        "id": "G_WadpFLhghc"
      },
      "source": [
        "## Converting hourly wage to annual wage"
      ]
    },
    {
      "cell_type": "code",
      "metadata": {
        "id": "us0Jp1SPhn5p"
      },
      "source": [
        "# converting min_salary from hourly basis to annual basis\r\n",
        "df['min_salary'] = df.apply(lambda x: x.min_salary * 2 if x.per_hour == 1 else x.min_salary, axis = 1)\r\n",
        "\r\n",
        "# converting max_salary from hourly basis to annual basis\r\n",
        "df['max_salary'] = df.apply(lambda x: x.max_salary * 2 if x.per_hour == 1 else x.max_salary, axis = 1)"
      ],
      "execution_count": null,
      "outputs": []
    },
    {
      "cell_type": "code",
      "metadata": {
        "id": "YnivoPUF2c6w"
      },
      "source": [
        "#df.loc[df['per_hour'] == 1, ['per_hour', 'min_salary','max_salary']]"
      ],
      "execution_count": null,
      "outputs": []
    },
    {
      "cell_type": "markdown",
      "metadata": {
        "id": "AphiZ7GsxaCA"
      },
      "source": [
        "### Cleaning ```Company Name```"
      ]
    },
    {
      "cell_type": "code",
      "metadata": {
        "id": "Gngx_lycyA6O"
      },
      "source": [
        "df['company_txt'] = df['Company Name'].apply(lambda x: x.split(\"\\n\")[0])"
      ],
      "execution_count": null,
      "outputs": []
    },
    {
      "cell_type": "markdown",
      "metadata": {
        "id": "wmTmUveXCmBH"
      },
      "source": [
        "### Separating State from city names"
      ]
    },
    {
      "cell_type": "code",
      "metadata": {
        "id": "BoZ_PRXkAtKa"
      },
      "source": [
        "df['job_state'] = df['Location'].apply(lambda x: x[-2:])"
      ],
      "execution_count": null,
      "outputs": []
    },
    {
      "cell_type": "markdown",
      "metadata": {
        "id": "3FdCzHWJFqPd"
      },
      "source": [
        "### Make a new column that indicates whether the job location is at the company headquarters"
      ]
    },
    {
      "cell_type": "markdown",
      "metadata": {
        "id": "IA-zctlzF0Hg"
      },
      "source": [
        "#### ```np.select``` is more efficient than ```.apply()```"
      ]
    },
    {
      "cell_type": "code",
      "metadata": {
        "id": "2Ftb1_-EF7Dh"
      },
      "source": [
        "import numpy as np\r\n",
        "\r\n",
        "condition = [df['Location'] == df['Headquarters'],\r\n",
        "             df['Location'] != df['Headquarters']]\r\n",
        "\r\n",
        "outputs = [1, 0]\r\n",
        "\r\n",
        "df['job_at_hq'] = np.select(condition, outputs)"
      ],
      "execution_count": null,
      "outputs": []
    },
    {
      "cell_type": "markdown",
      "metadata": {
        "id": "DQjApZeWJHsO"
      },
      "source": [
        "# Company age\r\n"
      ]
    },
    {
      "cell_type": "code",
      "metadata": {
        "id": "RD8vEGLOXFHH"
      },
      "source": [
        "df['age'] = df['Founded'].apply(lambda x: x if x < 1 else 2020 - x)"
      ],
      "execution_count": null,
      "outputs": []
    },
    {
      "cell_type": "markdown",
      "metadata": {
        "id": "V2JCxZTLaglT"
      },
      "source": [
        "# Parsing Job Description"
      ]
    },
    {
      "cell_type": "code",
      "metadata": {
        "id": "QvQFCAMfTlzJ"
      },
      "source": [
        "# checking if python is in the job description\r\n",
        "df['python'] = df['Job Description'].apply(lambda x: 1 if 'python' in x.lower() else 0)"
      ],
      "execution_count": null,
      "outputs": []
    },
    {
      "cell_type": "code",
      "metadata": {
        "id": "XPNJKN9BauM0"
      },
      "source": [
        "# checking if R is in the job description\r\n",
        "df['rstudio'] = df['Job Description'].apply(lambda x: 1 if 'r studio' in x.lower() else 0)"
      ],
      "execution_count": null,
      "outputs": []
    },
    {
      "cell_type": "code",
      "metadata": {
        "id": "sCIhl91oc4we"
      },
      "source": [
        "df['spark'] = df['Job Description'].apply(lambda x: 1 if 'spark' in x.lower() else 0)"
      ],
      "execution_count": null,
      "outputs": []
    },
    {
      "cell_type": "code",
      "metadata": {
        "id": "1IpzK0bGdGby"
      },
      "source": [
        "df['aws'] = df['Job Description'].apply(lambda x: 1 if 'aws' in x.lower() else 0)"
      ],
      "execution_count": null,
      "outputs": []
    },
    {
      "cell_type": "code",
      "metadata": {
        "id": "mMDpMQiodK9z"
      },
      "source": [
        "df['excel'] = df['Job Description'].apply(lambda x: 1 if 'excel' in x.lower() else 0)"
      ],
      "execution_count": null,
      "outputs": []
    },
    {
      "cell_type": "markdown",
      "metadata": {
        "id": "yoV3I00EYQ9r"
      },
      "source": [
        "# Simplifying data science job titles"
      ]
    },
    {
      "cell_type": "code",
      "metadata": {
        "id": "_N6j4YcIX-sI"
      },
      "source": [
        "def title_simplifier(title):\r\n",
        "    if 'data scientist' in title.lower():\r\n",
        "        return 'data scientist'\r\n",
        "    elif 'data engineer' in title.lower():\r\n",
        "        return 'data engineer'\r\n",
        "    elif 'analyst' in title.lower():\r\n",
        "        return 'analyst'\r\n",
        "    elif 'machine learning' in title.lower():\r\n",
        "        return 'mle'\r\n",
        "    elif 'manager' in title.lower():\r\n",
        "        return 'manager'\r\n",
        "    elif 'director' in title.lower():\r\n",
        "        return 'director'\r\n",
        "    else:\r\n",
        "        return 'na'\r\n",
        "    \r\n",
        "def seniority(title):\r\n",
        "    if 'sr' in title.lower() or 'senior' in title.lower() or 'sr' in title.lower() or 'lead' in title.lower() or 'principal' in title.lower():\r\n",
        "            return 'senior'\r\n",
        "    elif 'jr' in title.lower() or 'jr.' in title.lower():\r\n",
        "        return 'jr'\r\n",
        "    else:\r\n",
        "        return 'na'"
      ],
      "execution_count": null,
      "outputs": []
    },
    {
      "cell_type": "code",
      "metadata": {
        "id": "1USuFpA8bWXJ"
      },
      "source": [
        "df['job_simp'] = df['Job Title'].apply(title_simplifier)"
      ],
      "execution_count": null,
      "outputs": []
    },
    {
      "cell_type": "code",
      "metadata": {
        "id": "99dgLy5BcXeo"
      },
      "source": [
        "df['seniority'] = df['Job Title'].apply(seniority)"
      ],
      "execution_count": null,
      "outputs": []
    },
    {
      "cell_type": "markdown",
      "metadata": {
        "id": "HjSAvNedd_qt"
      },
      "source": [
        "# Miscellaneous "
      ]
    },
    {
      "cell_type": "markdown",
      "metadata": {
        "id": "HUNsWoRKexty"
      },
      "source": [
        "### Column to indicate the length of the description"
      ]
    },
    {
      "cell_type": "code",
      "metadata": {
        "id": "vomNE1WBd-0J"
      },
      "source": [
        "df['desc_len'] = df['Job Description'].apply(lambda x: len(x))"
      ],
      "execution_count": null,
      "outputs": []
    },
    {
      "cell_type": "markdown",
      "metadata": {
        "id": "t_Rh68h7e4HF"
      },
      "source": [
        "### Column to indicate number of competitors"
      ]
    },
    {
      "cell_type": "code",
      "metadata": {
        "id": "El9kK-fce99H"
      },
      "source": [
        "df['competitors_count'] = df['Competitors'].apply(lambda x: x.split(',') if x != \"-1\" else 0)"
      ],
      "execution_count": null,
      "outputs": []
    },
    {
      "cell_type": "markdown",
      "metadata": {
        "id": "-dP9jlq0jSkE"
      },
      "source": [
        "# Export cleaned ```df``` to a .csv file"
      ]
    },
    {
      "cell_type": "code",
      "metadata": {
        "id": "fwBzotVCgJNF"
      },
      "source": [
        "df.to_csv(\"glassdoor_cleaned.csv\", index = False)"
      ],
      "execution_count": null,
      "outputs": []
    }
  ]
}